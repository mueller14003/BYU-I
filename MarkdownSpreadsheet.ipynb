{
  "nbformat": 4,
  "nbformat_minor": 0,
  "metadata": {
    "colab": {
      "name": "MarkdownSpreadsheet.ipynb",
      "provenance": [],
      "authorship_tag": "ABX9TyNGXJDZ2auKx9VlUZ1zbBTJ",
      "include_colab_link": true
    },
    "kernelspec": {
      "name": "python3",
      "display_name": "Python 3"
    },
    "language_info": {
      "name": "python"
    }
  },
  "cells": [
    {
      "cell_type": "markdown",
      "metadata": {
        "id": "view-in-github",
        "colab_type": "text"
      },
      "source": [
        "<a href=\"https://colab.research.google.com/github/mueller14003/BYU-I/blob/master/MarkdownSpreadsheet.ipynb\" target=\"_parent\"><img src=\"https://colab.research.google.com/assets/colab-badge.svg\" alt=\"Open In Colab\"/></a>"
      ]
    },
    {
      "cell_type": "code",
      "metadata": {
        "colab": {
          "base_uri": "https://localhost:8080/",
          "height": 1000
        },
        "id": "5K4MiCx83XUa",
        "outputId": "26d9355b-cb39-4242-f317-ab437919db77"
      },
      "source": [
        "# Author: Kyle Mueller\n",
        "import requests\n",
        "from IPython.display import Markdown\n",
        "\n",
        "# Returns a Google Sheet as a Markdown Table\n",
        "def get_google_sheet_as_markdown_table(key):\n",
        "  response = requests.get(f'https://docs.google.com/spreadsheet/ccc?key={key}&output=csv')\n",
        "  assert response.status_code == 200, 'ERROR: Wrong status code'\n",
        "  rows = str(response.content)[2:-1].split('\\\\r\\\\n')\n",
        "  data = [*map(lambda s: s.split(','), rows)]\n",
        "  bars = ['|']*(len(data[0])+1)\n",
        "  header = ' '.join(bars) + '\\n' + '-'.join(bars) + '\\n'\n",
        "  body = '\\n'.join(map(lambda d: f\"|{'|'.join(d)}|\", data))\n",
        "  return Markdown(header + body)\n",
        "\n",
        "# Find the key for your corresponding Google Sheet in its URL\n",
        "# Example URL: https://docs.google.com/spreadsheets/d/1-xnPcF61eT1mQR3Gv_JDa7Z904S07cLVkq6dU_50__0/edit#gid=0\n",
        "# The key can be found in the URL after the '/d/' and before the '/edit'\n",
        "eliminate_redundancy_key = \"1-xnPcF61eT1mQR3Gv_JDa7Z904S07cLVkq6dU_50__0\"\n",
        "\n",
        "get_google_sheet_as_markdown_table(eliminate_redundancy_key)"
      ],
      "execution_count": 3,
      "outputs": [
        {
          "output_type": "execute_result",
          "data": {
            "text/markdown": "| | | | | | | | | | | | |\n|-|-|-|-|-|-|-|-|-|-|-|-|\n|shesellsseashells|17|||||||||||\n|||||||||||||\n|Encode the text in||||||||||||\n|ASCII:||||||||||||\n|17 * 8 = ||||||||||||\n|136||||||||||||\n|a|1|||||||||||\n|e|4|||||||||||\n|h|2|||||||||||\n|l|4|||||||||||\n|s|6|||||||||||\n|Total count of characters:|17|||||||||||\n|3 bits per character:||||||||||||\n|a = 000||||||||||||\n|e = 001||||||||||||\n|h = 010||||||||||||\n|l = 011||||||||||||\n|s = 100||||||||||||\n|17 * 3 =||||||||||||\n|51||||||||||||\n|||a1||||||||||\n|||h2||||||||||\n|||e4||||||||||\n|||l4||||||||||\n|||s6||||||||||\n|||||ah3||||||||\n|||||e4||||||||\n|||||l4||||||||\n|||||s6||||||||\n|||||||l4||||||\n|||||||s6||||||\n|||||||ahe7||||||\n|||||||||ahe7||||\n|||||||||ls10||||\n|||||||||||||\n|||||||||||ahels17||\n||Look at how many times each character changes its group in the sequence of lists.|||||||||||\n||Use that count as the number of bits to use to encode each character.|||||||||||\n||a|3||||||||||\n||e|2||||||||||\n||h|3||||||||||\n||l|2||||||||||\n||s|2||||||||||\n|||||||||||||\n||Compute the savings over the 51 bits for the fixed 3-bits-per-character encoding:|||||||||||\n||Character|Bits|Count|Product||||||||\n||a|3|1|3||||||||\n||e|2|4|8||||||||\n||h|3|2|6||||||||\n||l|2|4|8||||||||\n||s|2|6|12||||||||\n||||Total bits:|37||||||||\n|||||||||||||\n|||||14|bits|||||||\n|||||0.2745098039|savings|||||||\n|||||||||||||\n|Here\\'s an ICE task:||||||||||||\n|||||||||||||\n|Try this with two longer pieces||||||||||||\n|\"of text. First| eyeball to see if\"||||||||||||\n|you can predict which one will||||||||||||\n|yield the bigger savings with this||||||||||||\n|approach. Then compute the savings exactly.||||||||||||\n|||||||||||||\n|text1 = \\'therestoration\\'||||||||||||\n|text2 = \\'thebookofmormon\\'||||||||||||\n|||||||||||||\n|Here\\'s text2\\'s analysis:||||||||||||\n|15 characters total||||||||||||\n|4 bits per character for 10 unique||b1||||||||||\n|characters = 4 * 15 = 60 total.||e1||||||||||\n|||f1|f1|||||||||\n|||h1|h1|||||||||\n|||k1|k1|k1||||||||\n|||n1|n1|n1||||||||\n|||r1|r1|r1|r1|||||||\n|||t1|t1|t1|t1|||||||\n|||m2|m2|m2|m2|m2||||||\n|||o5|be2|be2|be2|be2||||||\n||||o5|fh2|fh2|fh2|fh2|||||\n|||||o5|kn2|kn2|kn2|||||\n||||||o5|rt2|rt2|rt2||||\n|||||||o5|mbe4|mbe4||||\n||||||||o5|fhkn4|fhkn4|||\n|||||||||o5|o5|||\n|||b|4|1|4||||rtmbe6|rtmbe6||\n|||e|4|1|4|||||fhkno9|rtmbefhkno15|\n|||f|4|1|4|||||||\n|||h|4|1|4|||||||\n|||k|4|1|4|||||||\n|||n|4|1|4|||||||\n|||r|3|1|3|||||||\n|||t|3|1|3|||||||\n|||m|3|2|6|||||||\n|||o|2|5|10|||||||\n||||||46|60|0.7666666667|||||\n||||||14|60|0.2333333333|||||",
            "text/plain": [
              "<IPython.core.display.Markdown object>"
            ]
          },
          "metadata": {
            "tags": []
          },
          "execution_count": 3
        }
      ]
    }
  ]
}